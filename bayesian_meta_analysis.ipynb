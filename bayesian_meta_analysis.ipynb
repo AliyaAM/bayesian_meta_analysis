{
  "nbformat": 4,
  "nbformat_minor": 0,
  "metadata": {
    "colab": {
      "name": "bayesian_meta_analysis.ipynb",
      "provenance": [],
      "collapsed_sections": [],
      "authorship_tag": "ABX9TyOMI5ptGZtm3CiuUQrgI1n+",
      "include_colab_link": true
    },
    "kernelspec": {
      "name": "ir",
      "display_name": "R"
    },
    "language_info": {
      "name": "R"
    }
  },
  "cells": [
    {
      "cell_type": "markdown",
      "metadata": {
        "id": "view-in-github",
        "colab_type": "text"
      },
      "source": [
        "<a href=\"https://colab.research.google.com/github/AliyaAM/bayesian_meta_analysis/blob/main/bayesian_meta_analysis.ipynb\" target=\"_parent\"><img src=\"https://colab.research.google.com/assets/colab-badge.svg\" alt=\"Open In Colab\"/></a>"
      ]
    },
    {
      "cell_type": "code",
      "execution_count": 1,
      "metadata": {
        "colab": {
          "base_uri": "https://localhost:8080/",
          "height": 34
        },
        "id": "cwBvWJKUjvp6",
        "outputId": "c320da8b-4a44-42b4-a815-b4e6322ca12f"
      },
      "outputs": [
        {
          "output_type": "display_data",
          "data": {
            "text/plain": [
              "[1] \"R version 4.1.2 (2021-11-01)\""
            ],
            "text/latex": "'R version 4.1.2 (2021-11-01)'",
            "text/markdown": "'R version 4.1.2 (2021-11-01)'",
            "text/html": [
              "'R version 4.1.2 (2021-11-01)'"
            ]
          },
          "metadata": {}
        }
      ],
      "source": [
        "R.version.string"
      ]
    },
    {
      "cell_type": "code",
      "source": [
        "print('hello world!')"
      ],
      "metadata": {
        "id": "VZ8l2aOcj0a8"
      },
      "execution_count": null,
      "outputs": []
    }
  ]
}