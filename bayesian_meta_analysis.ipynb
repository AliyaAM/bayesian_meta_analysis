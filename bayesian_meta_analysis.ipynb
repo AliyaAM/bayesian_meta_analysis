{
  "nbformat": 4,
  "nbformat_minor": 0,
  "metadata": {
    "colab": {
      "name": "bayesian_meta_analysis.ipynb",
      "provenance": [],
      "collapsed_sections": [],
      "authorship_tag": "ABX9TyOmpCpPKDXbdzdD+Ro12XuI",
      "include_colab_link": true
    },
    "kernelspec": {
      "name": "ir",
      "display_name": "R"
    },
    "language_info": {
      "name": "R"
    }
  },
  "cells": [
    {
      "cell_type": "markdown",
      "metadata": {
        "id": "view-in-github",
        "colab_type": "text"
      },
      "source": [
        "<a href=\"https://colab.research.google.com/github/AliyaAM/bayesian_meta_analysis/blob/main/bayesian_meta_analysis.ipynb\" target=\"_parent\"><img src=\"https://colab.research.google.com/assets/colab-badge.svg\" alt=\"Open In Colab\"/></a>"
      ]
    },
    {
      "cell_type": "code",
      "source": [
        "## Setup R in Colab\n",
        "install.packages(\"R.utils\")\n",
        "library(\"R.utils\")\n",
        "library(\"httr\")\n",
        "my_check <- function() {return(TRUE)}\n",
        "reassignInPackage(\"is_interactive\", pkgName = \"httr\", my_check) \n",
        "options(rlang_interactive=TRUE)\n",
        "\n",
        "install.packages(\"googledrive\")\n",
        "library(\"googledrive\")\n",
        "\n",
        "## Installing essential packages to run the analysis \n",
        "install.packages(\"readr\")\n",
        "install.packages(\"filenamer\")\n",
        "install.packages(\"tidyverse\")\n",
        "install.packages(\"dplyr\")\n",
        "install.packages(\"assertthat\")\n",
        "install.packages(\"ggplot2\")\n",
        "install.packages(\"reshape2\")  \n",
        "install.packages(\"tibble\")\n",
        "install.packages(\"compute.es\")\n",
        "install.packages(\"metafor\")\n",
        "install.packages(\"bayesplot\")\n",
        "install.packages(\"ggplot2\")\n",
        "\n",
        "######### In file contingenciestables_MCMC:\n",
        "install.packages(\"rstan\") #check if we are actually using any elements of this \n",
        "# ############ CHECK !!! #########\n",
        "\n",
        "install.packages(\"coda\")\n",
        "install.packages(\"bayestestR\")\n",
        "install.packages(\"HDInterval\")\n",
        "install.packages(\"assertthat\")\n",
        "\n",
        "## Loading libraries \n",
        "library(tidyverse)\n",
        "library(dplyr)\n",
        "library(assertthat)\n",
        "library(ggplot2)\n",
        "library(filenamer)\n",
        "library(reshape2)  \n",
        "library(tibble)\n",
        "library(compute.es)\n",
        "library(metafor)\n",
        "library(bayesplot)\n",
        "library(ggplot2)\n",
        "library(rstan) \n",
        "library(coda)\n",
        "library(bayestestR)\n",
        "library(HDInterval)\n",
        "library(assertthat)\n",
        "\n"
      ],
      "metadata": {
        "colab": {
          "base_uri": "https://localhost:8080/"
        },
        "id": "EVDj8wL4wZKd",
        "outputId": "49304334-df42-4be3-944f-c87d35342743"
      },
      "execution_count": null,
      "outputs": [
        {
          "output_type": "stream",
          "name": "stderr",
          "text": [
            "Installing package into ‘/usr/local/lib/R/site-library’\n",
            "(as ‘lib’ is unspecified)\n",
            "\n",
            "also installing the dependencies ‘R.oo’, ‘R.methodsS3’\n",
            "\n",
            "\n",
            "Loading required package: R.oo\n",
            "\n",
            "Loading required package: R.methodsS3\n",
            "\n",
            "R.methodsS3 v1.8.1 (2020-08-26 16:20:06 UTC) successfully loaded. See ?R.methodsS3 for help.\n",
            "\n",
            "R.oo v1.24.0 (2020-08-26 16:11:58 UTC) successfully loaded. See ?R.oo for help.\n",
            "\n",
            "\n",
            "Attaching package: ‘R.oo’\n",
            "\n",
            "\n",
            "The following object is masked from ‘package:R.methodsS3’:\n",
            "\n",
            "    throw\n",
            "\n",
            "\n",
            "The following objects are masked from ‘package:methods’:\n",
            "\n",
            "    getClasses, getMethods\n",
            "\n",
            "\n",
            "The following objects are masked from ‘package:base’:\n",
            "\n",
            "    attach, detach, load, save\n",
            "\n",
            "\n",
            "R.utils v2.11.0 (2021-09-26 08:30:02 UTC) successfully loaded. See ?R.utils for help.\n",
            "\n",
            "\n",
            "Attaching package: ‘R.utils’\n",
            "\n",
            "\n",
            "The following object is masked from ‘package:utils’:\n",
            "\n",
            "    timestamp\n",
            "\n",
            "\n",
            "The following objects are masked from ‘package:base’:\n",
            "\n",
            "    cat, commandArgs, getOption, inherits, isOpen, nullfile, parse,\n",
            "    warnings\n",
            "\n",
            "\n",
            "Installing package into ‘/usr/local/lib/R/site-library’\n",
            "(as ‘lib’ is unspecified)\n",
            "\n",
            "Installing package into ‘/usr/local/lib/R/site-library’\n",
            "(as ‘lib’ is unspecified)\n",
            "\n",
            "Installing package into ‘/usr/local/lib/R/site-library’\n",
            "(as ‘lib’ is unspecified)\n",
            "\n"
          ]
        }
      ]
    },
    {
      "cell_type": "code",
      "source": [
        "## Authenticate Google Drive\n",
        "# Must give permission to edit files on Drive when prompted.\n",
        "drive_auth(use_oob = TRUE, cache = TRUE)"
      ],
      "metadata": {
        "colab": {
          "base_uri": "https://localhost:8080/"
        },
        "id": "E_KwHjz4wZBD",
        "outputId": "67b96e6c-983a-4190-a4d3-c59b10b40423"
      },
      "execution_count": null,
      "outputs": [
        {
          "output_type": "stream",
          "name": "stderr",
          "text": [
            "Please point your browser to the following url: \n",
            "\n",
            "https://accounts.google.com/o/oauth2/auth?client_id=603366585132-dpeg5tt0et3go5of2374d83ifevk5086.apps.googleusercontent.com&scope=https%3A%2F%2Fwww.googleapis.com%2Fauth%2Fdrive%20https%3A%2F%2Fwww.googleapis.com%2Fauth%2Fuserinfo.email&redirect_uri=urn%3Aietf%3Awg%3Aoauth%3A2.0%3Aoob&response_type=code\n",
            "\n"
          ]
        },
        {
          "name": "stdout",
          "output_type": "stream",
          "text": [
            "Enter authorization code: 4/1AX4XfWg_-RbT3mVrPJ4S7g0CkPi0oyrnESBrEqZBhbRk7jX4plrDWAyhWlg\n"
          ]
        }
      ]
    },
    {
      "cell_type": "markdown",
      "source": [
        "Setting root repositories for sourcing and outputing files "
      ],
      "metadata": {
        "id": "HlbzxGqbhZKj"
      }
    },
    {
      "cell_type": "code",
      "source": [
        "## Set the root directory to look for source code.\n",
        "SOURCE_ROOT = \"https://raw.githubusercontent.com/AliyaAM/bayesian_meta_analysis/master/\"\n",
        "## Set the root location on the user's colab home directory to save output files.\n",
        "OUTPUT_ROOT = \"/content/__tmp_output_files_from_bayesian_meta_analysis/\""
      ],
      "metadata": {
        "id": "3rZb9bnky-0x"
      },
      "execution_count": null,
      "outputs": []
    },
    {
      "cell_type": "markdown",
      "source": [
        "Load data\n"
      ],
      "metadata": {
        "id": "IjQbUcAxympC"
      }
    },
    {
      "cell_type": "code",
      "source": [
        "\n",
        "## Load data from GutHub repository \n",
        "# Data from the large international study on physical activity in HF was used to elicit the empirical hyperprior \n",
        "JaarsmaInternationalStudy = read.csv(paste(SOURCE_ROOT, \"HyperPriorData.csv\", sep=\"\")) \n",
        "\n",
        "# Data from the expert elicitation task (median probability (variance) for physical activity when construct is present; and median probability (variaince) for physical activity when constrcut is absent)\n",
        "# This data was used to elicit prior distribution for physical activity conditioned on a construct\n",
        "x = read.csv(paste(SOURCE_ROOT, \"input.csv\", sep=\"\"))  #to perform the analysis we require this data for all indexed functions which were indexed by the name of the included constructs (eg., self-efficacy, social support). This is done so the analysis is parsled out for each construct separately. \n",
        "\n",
        "# Data extracted from the quantitative studies, informed likelihoood distribution \n",
        "data = read.csv(paste(SOURCE_ROOT, \"QuantData_CheckedForAccuracy_20March2020.csv\", sep=\"\"))  #file is also used for indexing the analysis by the name of construct \n"
      ],
      "metadata": {
        "id": "bEDmJR1ZZA5z"
      },
      "execution_count": null,
      "outputs": []
    },
    {
      "cell_type": "markdown",
      "source": [
        "Run Bayesian meta-analysis sourcing from 10 different seeds separately for two procedures\n"
      ],
      "metadata": {
        "id": "TdGB1Ctfh1RA"
      }
    },
    {
      "cell_type": "code",
      "source": [
        "## Combining qualitative and quantitative evidence in Bayesian Update. First hyperprior was updated with prior, the resultant posterior was updated with quantitative evidence\n",
        "source(paste(SOURCE_ROOT, \"QualANDQuant_sourcing_AllSeeds.R\", sep=\"\"))"
      ],
      "metadata": {
        "colab": {
          "base_uri": "https://localhost:8080/",
          "height": 878
        },
        "id": "w0zbFKkIwY-P",
        "outputId": "97c38c02-402b-4b78-eb41-5b249f343baf"
      },
      "execution_count": null,
      "outputs": [
        {
          "output_type": "stream",
          "name": "stderr",
          "text": [
            "\n",
            "Attaching package: ‘filenamer’\n",
            "\n",
            "\n",
            "The following object is masked from ‘package:R.utils’:\n",
            "\n",
            "    insert\n",
            "\n",
            "\n",
            "Warning message in system(\"timedatectl\", intern = TRUE):\n",
            "“running command 'timedatectl' had status 1”\n",
            "── \u001b[1mAttaching packages\u001b[22m ─────────────────────────────────────── tidyverse 1.3.1 ──\n",
            "\n",
            "\u001b[32m✔\u001b[39m \u001b[34mggplot2\u001b[39m 3.3.5     \u001b[32m✔\u001b[39m \u001b[34mpurrr  \u001b[39m 0.3.4\n",
            "\u001b[32m✔\u001b[39m \u001b[34mtibble \u001b[39m 3.1.6     \u001b[32m✔\u001b[39m \u001b[34mdplyr  \u001b[39m 1.0.7\n",
            "\u001b[32m✔\u001b[39m \u001b[34mtidyr  \u001b[39m 1.1.4     \u001b[32m✔\u001b[39m \u001b[34mstringr\u001b[39m 1.4.0\n",
            "\u001b[32m✔\u001b[39m \u001b[34mreadr  \u001b[39m 2.1.1     \u001b[32m✔\u001b[39m \u001b[34mforcats\u001b[39m 0.5.1\n",
            "\n",
            "── \u001b[1mConflicts\u001b[22m ────────────────────────────────────────── tidyverse_conflicts() ──\n",
            "\u001b[31m✖\u001b[39m \u001b[34mtidyr\u001b[39m::\u001b[32mextract()\u001b[39m masks \u001b[34mR.utils\u001b[39m::extract()\n",
            "\u001b[31m✖\u001b[39m \u001b[34mdplyr\u001b[39m::\u001b[32mfilter()\u001b[39m  masks \u001b[34mstats\u001b[39m::filter()\n",
            "\u001b[31m✖\u001b[39m \u001b[34mdplyr\u001b[39m::\u001b[32mlag()\u001b[39m     masks \u001b[34mstats\u001b[39m::lag()\n",
            "\n",
            "\n",
            "Attaching package: ‘assertthat’\n",
            "\n",
            "\n",
            "The following object is masked from ‘package:tibble’:\n",
            "\n",
            "    has_name\n",
            "\n",
            "\n"
          ]
        },
        {
          "output_type": "error",
          "ename": "ERROR",
          "evalue": "ignored",
          "traceback": [
            "Error in library(reshape2): there is no package called ‘reshape2’\nTraceback:\n",
            "1. source(paste(SOURCE_ROOT, \"QualANDQuant_sourcing_AllSeeds.R\", \n .     sep = \"\"))",
            "2. withVisible(eval(ei, envir))",
            "3. eval(ei, envir)",
            "4. eval(ei, envir)",
            "5. Source_seed(uncertainty = 10, seed = 888100)",
            "6. source(paste(SOURCE_ROOT, \"BayesianMetaAnalysis_StepByStep.R\", \n .     sep = \"\"), local = TRUE)",
            "7. withVisible(eval(ei, envir))",
            "8. eval(ei, envir)",
            "9. eval(ei, envir)",
            "10. library(reshape2)"
          ]
        }
      ]
    },
    {
      "cell_type": "code",
      "source": [
        "## Updating hyperprior with quantitative evidence alone\n",
        "source(paste(SOURCE_ROOT, \"QuantOnly_Sourcing_AllSeeds.R\", sep=\"\"))"
      ],
      "metadata": {
        "id": "b84GR2Hbbe8O"
      },
      "execution_count": null,
      "outputs": []
    },
    {
      "cell_type": "code",
      "source": [
        ""
      ],
      "metadata": {
        "id": "wigtu0gLjCMW"
      },
      "execution_count": null,
      "outputs": []
    },
    {
      "cell_type": "code",
      "source": [
        "getwd()"
      ],
      "metadata": {
        "colab": {
          "base_uri": "https://localhost:8080/",
          "height": 34
        },
        "id": "-NMgUlmTEtqm",
        "outputId": "8644ccfe-27a5-4d95-f63a-65f7d1045573"
      },
      "execution_count": null,
      "outputs": [
        {
          "output_type": "display_data",
          "data": {
            "text/plain": [
              "[1] \"/content\""
            ],
            "text/latex": "'/content'",
            "text/markdown": "'/content'",
            "text/html": [
              "'/content'"
            ]
          },
          "metadata": {}
        }
      ]
    },
    {
      "cell_type": "code",
      "source": [
        "print(paste(OUTPUT_ROOT, \"test_save_from_colab.csv\", sep=\"\"))"
      ],
      "metadata": {
        "colab": {
          "base_uri": "https://localhost:8080/"
        },
        "id": "HwM6ogiXELIS",
        "outputId": "b297f927-aed0-4ccb-9585-4b38e0280a7e"
      },
      "execution_count": null,
      "outputs": [
        {
          "output_type": "stream",
          "name": "stdout",
          "text": [
            "[1] \"~/__tmp_output_files_from_bayesian_meta_analysis/test_save_from_colab.csv\"\n"
          ]
        }
      ]
    },
    {
      "cell_type": "code",
      "source": [
        "filename_x <- file.path(paste(OUTPUT_ROOT, \"test_save_from_colab.csv\", sep=\"\"))\n",
        "fn_filename_x <- as.filename(filename_x)\n",
        "make_path(fn_filename_x)\n",
        "write.table(x, file = filename_x, \n",
        "            append = FALSE, \n",
        "            quote = TRUE, \n",
        "            sep = \",\", \n",
        "            eol = \"\\r\", \n",
        "            na = \"NA\", \n",
        "            dec = \".\",\n",
        "            row.names = FALSE, \n",
        "            col.names = TRUE, \n",
        "            fileEncoding = \"\" )"
      ],
      "metadata": {
        "id": "M0I-Hekv75R5"
      },
      "execution_count": null,
      "outputs": []
    },
    {
      "cell_type": "code",
      "source": [
        "# Delete this!!\n",
        "y = read.csv(paste(OUTPUT_ROOT, \"test_save_from_colab.csv\", sep=\"\"))\n",
        "y"
      ],
      "metadata": {
        "colab": {
          "base_uri": "https://localhost:8080/",
          "height": 412
        },
        "id": "CSeJwxaXFGLu",
        "outputId": "99a958ed-9c4d-49b2-e4e2-5302855ba945"
      },
      "execution_count": null,
      "outputs": [
        {
          "output_type": "display_data",
          "data": {
            "text/plain": [
              "   Construct        median    variance  NoX_median NoX_variance\n",
              "1  Age              0.5833333 0.2482270 0.6250000  0.2393617   \n",
              "2  SelfEfficacy     0.8541667 0.1272163 0.3541667  0.2335993   \n",
              "3  SocialSupport    0.7916667 0.1684397 0.4166667  0.2482270   \n",
              "4  Comorbidity      0.4791667 0.2548759 0.3541667  0.2335993   \n",
              "5  NegativeAttitute 0.5000000 0.2857143 0.5000000  0.2857143   \n",
              "6  6MWT             0.1500000 0.1342105 0.5000000  0.2631579   \n",
              "7  Functioning      0.1500000 0.1342105 0.5000000  0.2631579   \n",
              "8  Symptoms         0.3500000 0.2394737 0.3000000  0.2210526   \n",
              "9  LVEF             0.1500000 0.1342105 0.5000000  0.2631579   \n",
              "10 PositiveAttitute 0.8000000 0.2857143 0.5000000  0.2857143   "
            ],
            "text/latex": "A data.frame: 10 × 5\n\\begin{tabular}{lllll}\n Construct & median & variance & NoX\\_median & NoX\\_variance\\\\\n <chr> & <dbl> & <dbl> & <dbl> & <dbl>\\\\\n\\hline\n\t Age              & 0.5833333 & 0.2482270 & 0.6250000 & 0.2393617\\\\\n\t SelfEfficacy     & 0.8541667 & 0.1272163 & 0.3541667 & 0.2335993\\\\\n\t SocialSupport    & 0.7916667 & 0.1684397 & 0.4166667 & 0.2482270\\\\\n\t Comorbidity      & 0.4791667 & 0.2548759 & 0.3541667 & 0.2335993\\\\\n\t NegativeAttitute & 0.5000000 & 0.2857143 & 0.5000000 & 0.2857143\\\\\n\t 6MWT             & 0.1500000 & 0.1342105 & 0.5000000 & 0.2631579\\\\\n\t Functioning      & 0.1500000 & 0.1342105 & 0.5000000 & 0.2631579\\\\\n\t Symptoms         & 0.3500000 & 0.2394737 & 0.3000000 & 0.2210526\\\\\n\t LVEF             & 0.1500000 & 0.1342105 & 0.5000000 & 0.2631579\\\\\n\t PositiveAttitute & 0.8000000 & 0.2857143 & 0.5000000 & 0.2857143\\\\\n\\end{tabular}\n",
            "text/markdown": "\nA data.frame: 10 × 5\n\n| Construct &lt;chr&gt; | median &lt;dbl&gt; | variance &lt;dbl&gt; | NoX_median &lt;dbl&gt; | NoX_variance &lt;dbl&gt; |\n|---|---|---|---|---|\n| Age              | 0.5833333 | 0.2482270 | 0.6250000 | 0.2393617 |\n| SelfEfficacy     | 0.8541667 | 0.1272163 | 0.3541667 | 0.2335993 |\n| SocialSupport    | 0.7916667 | 0.1684397 | 0.4166667 | 0.2482270 |\n| Comorbidity      | 0.4791667 | 0.2548759 | 0.3541667 | 0.2335993 |\n| NegativeAttitute | 0.5000000 | 0.2857143 | 0.5000000 | 0.2857143 |\n| 6MWT             | 0.1500000 | 0.1342105 | 0.5000000 | 0.2631579 |\n| Functioning      | 0.1500000 | 0.1342105 | 0.5000000 | 0.2631579 |\n| Symptoms         | 0.3500000 | 0.2394737 | 0.3000000 | 0.2210526 |\n| LVEF             | 0.1500000 | 0.1342105 | 0.5000000 | 0.2631579 |\n| PositiveAttitute | 0.8000000 | 0.2857143 | 0.5000000 | 0.2857143 |\n\n",
            "text/html": [
              "<table class=\"dataframe\">\n",
              "<caption>A data.frame: 10 × 5</caption>\n",
              "<thead>\n",
              "\t<tr><th scope=col>Construct</th><th scope=col>median</th><th scope=col>variance</th><th scope=col>NoX_median</th><th scope=col>NoX_variance</th></tr>\n",
              "\t<tr><th scope=col>&lt;chr&gt;</th><th scope=col>&lt;dbl&gt;</th><th scope=col>&lt;dbl&gt;</th><th scope=col>&lt;dbl&gt;</th><th scope=col>&lt;dbl&gt;</th></tr>\n",
              "</thead>\n",
              "<tbody>\n",
              "\t<tr><td>Age             </td><td>0.5833333</td><td>0.2482270</td><td>0.6250000</td><td>0.2393617</td></tr>\n",
              "\t<tr><td>SelfEfficacy    </td><td>0.8541667</td><td>0.1272163</td><td>0.3541667</td><td>0.2335993</td></tr>\n",
              "\t<tr><td>SocialSupport   </td><td>0.7916667</td><td>0.1684397</td><td>0.4166667</td><td>0.2482270</td></tr>\n",
              "\t<tr><td>Comorbidity     </td><td>0.4791667</td><td>0.2548759</td><td>0.3541667</td><td>0.2335993</td></tr>\n",
              "\t<tr><td>NegativeAttitute</td><td>0.5000000</td><td>0.2857143</td><td>0.5000000</td><td>0.2857143</td></tr>\n",
              "\t<tr><td>6MWT            </td><td>0.1500000</td><td>0.1342105</td><td>0.5000000</td><td>0.2631579</td></tr>\n",
              "\t<tr><td>Functioning     </td><td>0.1500000</td><td>0.1342105</td><td>0.5000000</td><td>0.2631579</td></tr>\n",
              "\t<tr><td>Symptoms        </td><td>0.3500000</td><td>0.2394737</td><td>0.3000000</td><td>0.2210526</td></tr>\n",
              "\t<tr><td>LVEF            </td><td>0.1500000</td><td>0.1342105</td><td>0.5000000</td><td>0.2631579</td></tr>\n",
              "\t<tr><td>PositiveAttitute</td><td>0.8000000</td><td>0.2857143</td><td>0.5000000</td><td>0.2857143</td></tr>\n",
              "</tbody>\n",
              "</table>\n"
            ]
          },
          "metadata": {}
        }
      ]
    },
    {
      "cell_type": "code",
      "source": [
        ""
      ],
      "metadata": {
        "id": "KpppIQimGdCF"
      },
      "execution_count": null,
      "outputs": []
    }
  ]
}