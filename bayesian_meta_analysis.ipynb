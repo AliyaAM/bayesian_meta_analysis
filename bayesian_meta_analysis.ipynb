{
  "nbformat": 4,
  "nbformat_minor": 0,
  "metadata": {
    "colab": {
      "name": "bayesian_meta_analysis.ipynb",
      "provenance": [],
      "collapsed_sections": [],
      "authorship_tag": "ABX9TyMtlARMCFjy3c7ORT+7Vjp0",
      "include_colab_link": true
    },
    "kernelspec": {
      "name": "ir",
      "display_name": "R"
    },
    "language_info": {
      "name": "R"
    }
  },
  "cells": [
    {
      "cell_type": "markdown",
      "metadata": {
        "id": "view-in-github",
        "colab_type": "text"
      },
      "source": [
        "<a href=\"https://colab.research.google.com/github/AliyaAM/bayesian_meta_analysis/blob/main/bayesian_meta_analysis.ipynb\" target=\"_parent\"><img src=\"https://colab.research.google.com/assets/colab-badge.svg\" alt=\"Open In Colab\"/></a>"
      ]
    },
    {
      "cell_type": "code",
      "source": [
        "## Setup\n",
        "install.packages(\"R.utils\")\n",
        "library(\"R.utils\")\n",
        "library(\"httr\")\n",
        "my_check <- function() {return(TRUE)}\n",
        "reassignInPackage(\"is_interactive\", pkgName = \"httr\", my_check) \n",
        "options(rlang_interactive=TRUE)\n",
        "\n",
        "install.packages(\"googledrive\")\n",
        "library(\"googledrive\")\n",
        "\n",
        "# Installing essential packages\n",
        "install.packages(\"readr\")\n",
        "install.packages(\"filenamer\")"
      ],
      "metadata": {
        "colab": {
          "base_uri": "https://localhost:8080/"
        },
        "id": "EVDj8wL4wZKd",
        "outputId": "49304334-df42-4be3-944f-c87d35342743"
      },
      "execution_count": 1,
      "outputs": [
        {
          "output_type": "stream",
          "name": "stderr",
          "text": [
            "Installing package into ‘/usr/local/lib/R/site-library’\n",
            "(as ‘lib’ is unspecified)\n",
            "\n",
            "also installing the dependencies ‘R.oo’, ‘R.methodsS3’\n",
            "\n",
            "\n",
            "Loading required package: R.oo\n",
            "\n",
            "Loading required package: R.methodsS3\n",
            "\n",
            "R.methodsS3 v1.8.1 (2020-08-26 16:20:06 UTC) successfully loaded. See ?R.methodsS3 for help.\n",
            "\n",
            "R.oo v1.24.0 (2020-08-26 16:11:58 UTC) successfully loaded. See ?R.oo for help.\n",
            "\n",
            "\n",
            "Attaching package: ‘R.oo’\n",
            "\n",
            "\n",
            "The following object is masked from ‘package:R.methodsS3’:\n",
            "\n",
            "    throw\n",
            "\n",
            "\n",
            "The following objects are masked from ‘package:methods’:\n",
            "\n",
            "    getClasses, getMethods\n",
            "\n",
            "\n",
            "The following objects are masked from ‘package:base’:\n",
            "\n",
            "    attach, detach, load, save\n",
            "\n",
            "\n",
            "R.utils v2.11.0 (2021-09-26 08:30:02 UTC) successfully loaded. See ?R.utils for help.\n",
            "\n",
            "\n",
            "Attaching package: ‘R.utils’\n",
            "\n",
            "\n",
            "The following object is masked from ‘package:utils’:\n",
            "\n",
            "    timestamp\n",
            "\n",
            "\n",
            "The following objects are masked from ‘package:base’:\n",
            "\n",
            "    cat, commandArgs, getOption, inherits, isOpen, nullfile, parse,\n",
            "    warnings\n",
            "\n",
            "\n",
            "Installing package into ‘/usr/local/lib/R/site-library’\n",
            "(as ‘lib’ is unspecified)\n",
            "\n",
            "Installing package into ‘/usr/local/lib/R/site-library’\n",
            "(as ‘lib’ is unspecified)\n",
            "\n",
            "Installing package into ‘/usr/local/lib/R/site-library’\n",
            "(as ‘lib’ is unspecified)\n",
            "\n"
          ]
        }
      ]
    },
    {
      "cell_type": "code",
      "source": [
        "## Authenticate Google Drive\n",
        "# Must give permission to edit files on Drive when prompted.\n",
        "drive_auth(use_oob = TRUE, cache = TRUE)"
      ],
      "metadata": {
        "colab": {
          "base_uri": "https://localhost:8080/"
        },
        "id": "E_KwHjz4wZBD",
        "outputId": "67b96e6c-983a-4190-a4d3-c59b10b40423"
      },
      "execution_count": 2,
      "outputs": [
        {
          "output_type": "stream",
          "name": "stderr",
          "text": [
            "Please point your browser to the following url: \n",
            "\n",
            "https://accounts.google.com/o/oauth2/auth?client_id=603366585132-dpeg5tt0et3go5of2374d83ifevk5086.apps.googleusercontent.com&scope=https%3A%2F%2Fwww.googleapis.com%2Fauth%2Fdrive%20https%3A%2F%2Fwww.googleapis.com%2Fauth%2Fuserinfo.email&redirect_uri=urn%3Aietf%3Awg%3Aoauth%3A2.0%3Aoob&response_type=code\n",
            "\n"
          ]
        },
        {
          "name": "stdout",
          "output_type": "stream",
          "text": [
            "Enter authorization code: 4/1AX4XfWg_-RbT3mVrPJ4S7g0CkPi0oyrnESBrEqZBhbRk7jX4plrDWAyhWlg\n"
          ]
        }
      ]
    },
    {
      "cell_type": "code",
      "source": [
        "## Set the root directory to look for source code.\n",
        "SOURCE_ROOT = \"https://raw.githubusercontent.com/AliyaAM/bayesian_meta_analysis/master/\""
      ],
      "metadata": {
        "id": "3rZb9bnky-0x"
      },
      "execution_count": 3,
      "outputs": []
    },
    {
      "cell_type": "markdown",
      "source": [
        "Run Bayesian meta-analysis sourcing from 10 different seeds separately for two procedures: "
      ],
      "metadata": {
        "id": "IjQbUcAxympC"
      }
    },
    {
      "cell_type": "code",
      "source": [
        "#1) combining qualitative and quantitative evidence: \n",
        "source(paste(SOURCE_ROOT, \"QualANDQuant_sourcing_AllSeeds.R\", sep=\"\"))"
      ],
      "metadata": {
        "colab": {
          "base_uri": "https://localhost:8080/",
          "height": 878
        },
        "id": "w0zbFKkIwY-P",
        "outputId": "97c38c02-402b-4b78-eb41-5b249f343baf"
      },
      "execution_count": 4,
      "outputs": [
        {
          "output_type": "stream",
          "name": "stderr",
          "text": [
            "\n",
            "Attaching package: ‘filenamer’\n",
            "\n",
            "\n",
            "The following object is masked from ‘package:R.utils’:\n",
            "\n",
            "    insert\n",
            "\n",
            "\n",
            "Warning message in system(\"timedatectl\", intern = TRUE):\n",
            "“running command 'timedatectl' had status 1”\n",
            "── \u001b[1mAttaching packages\u001b[22m ─────────────────────────────────────── tidyverse 1.3.1 ──\n",
            "\n",
            "\u001b[32m✔\u001b[39m \u001b[34mggplot2\u001b[39m 3.3.5     \u001b[32m✔\u001b[39m \u001b[34mpurrr  \u001b[39m 0.3.4\n",
            "\u001b[32m✔\u001b[39m \u001b[34mtibble \u001b[39m 3.1.6     \u001b[32m✔\u001b[39m \u001b[34mdplyr  \u001b[39m 1.0.7\n",
            "\u001b[32m✔\u001b[39m \u001b[34mtidyr  \u001b[39m 1.1.4     \u001b[32m✔\u001b[39m \u001b[34mstringr\u001b[39m 1.4.0\n",
            "\u001b[32m✔\u001b[39m \u001b[34mreadr  \u001b[39m 2.1.1     \u001b[32m✔\u001b[39m \u001b[34mforcats\u001b[39m 0.5.1\n",
            "\n",
            "── \u001b[1mConflicts\u001b[22m ────────────────────────────────────────── tidyverse_conflicts() ──\n",
            "\u001b[31m✖\u001b[39m \u001b[34mtidyr\u001b[39m::\u001b[32mextract()\u001b[39m masks \u001b[34mR.utils\u001b[39m::extract()\n",
            "\u001b[31m✖\u001b[39m \u001b[34mdplyr\u001b[39m::\u001b[32mfilter()\u001b[39m  masks \u001b[34mstats\u001b[39m::filter()\n",
            "\u001b[31m✖\u001b[39m \u001b[34mdplyr\u001b[39m::\u001b[32mlag()\u001b[39m     masks \u001b[34mstats\u001b[39m::lag()\n",
            "\n",
            "\n",
            "Attaching package: ‘assertthat’\n",
            "\n",
            "\n",
            "The following object is masked from ‘package:tibble’:\n",
            "\n",
            "    has_name\n",
            "\n",
            "\n"
          ]
        },
        {
          "output_type": "error",
          "ename": "ERROR",
          "evalue": "ignored",
          "traceback": [
            "Error in library(reshape2): there is no package called ‘reshape2’\nTraceback:\n",
            "1. source(paste(SOURCE_ROOT, \"QualANDQuant_sourcing_AllSeeds.R\", \n .     sep = \"\"))",
            "2. withVisible(eval(ei, envir))",
            "3. eval(ei, envir)",
            "4. eval(ei, envir)",
            "5. Source_seed(uncertainty = 10, seed = 888100)",
            "6. source(paste(SOURCE_ROOT, \"BayesianMetaAnalysis_StepByStep.R\", \n .     sep = \"\"), local = TRUE)",
            "7. withVisible(eval(ei, envir))",
            "8. eval(ei, envir)",
            "9. eval(ei, envir)",
            "10. library(reshape2)"
          ]
        }
      ]
    },
    {
      "cell_type": "code",
      "source": [
        ""
      ],
      "metadata": {
        "id": "vciiAqsMwY5O"
      },
      "execution_count": null,
      "outputs": []
    },
    {
      "cell_type": "code",
      "execution_count": 1,
      "metadata": {
        "colab": {
          "base_uri": "https://localhost:8080/",
          "height": 34
        },
        "id": "cwBvWJKUjvp6",
        "outputId": "c320da8b-4a44-42b4-a815-b4e6322ca12f"
      },
      "outputs": [
        {
          "output_type": "display_data",
          "data": {
            "text/plain": [
              "[1] \"R version 4.1.2 (2021-11-01)\""
            ],
            "text/latex": "'R version 4.1.2 (2021-11-01)'",
            "text/markdown": "'R version 4.1.2 (2021-11-01)'",
            "text/html": [
              "'R version 4.1.2 (2021-11-01)'"
            ]
          },
          "metadata": {}
        }
      ],
      "source": [
        "R.version.string"
      ]
    },
    {
      "cell_type": "code",
      "source": [
        "print('hello world!')"
      ],
      "metadata": {
        "id": "VZ8l2aOcj0a8"
      },
      "execution_count": null,
      "outputs": []
    },
    {
      "cell_type": "code",
      "source": [
        ""
      ],
      "metadata": {
        "id": "HTcnSxH3l92E"
      },
      "execution_count": null,
      "outputs": []
    },
    {
      "cell_type": "code",
      "source": [
        ""
      ],
      "metadata": {
        "id": "uNEG9e0Pl9zF"
      },
      "execution_count": null,
      "outputs": []
    },
    {
      "cell_type": "code",
      "source": [
        "install.packages(\"googledrive\")\n",
        "library(\"googledrive\")"
      ],
      "metadata": {
        "colab": {
          "base_uri": "https://localhost:8080/"
        },
        "id": "7eXqmc8jl9qe",
        "outputId": "e79f445d-2104-4ee2-d91b-35d37597b7c9"
      },
      "execution_count": 7,
      "outputs": [
        {
          "output_type": "stream",
          "name": "stderr",
          "text": [
            "Installing package into ‘/usr/local/lib/R/site-library’\n",
            "(as ‘lib’ is unspecified)\n",
            "\n"
          ]
        }
      ]
    },
    {
      "cell_type": "code",
      "source": [
        "print(\"test\")\n",
        "install.packages(\"R.utils\")\n",
        "library(\"R.utils\")\n",
        "library(\"httr\")\n",
        "my_check <- function() {return(TRUE)}\n",
        "reassignInPackage(\"is_interactive\", pkgName = \"httr\", my_check) \n",
        "options(rlang_interactive=TRUE)"
      ],
      "metadata": {
        "colab": {
          "base_uri": "https://localhost:8080/"
        },
        "id": "c9iVuXEbrfCw",
        "outputId": "0a585a66-f95b-4ecf-ebe6-96aa47e49183"
      },
      "execution_count": 46,
      "outputs": [
        {
          "output_type": "stream",
          "name": "stdout",
          "text": [
            "[1] \"test\"\n"
          ]
        },
        {
          "output_type": "stream",
          "name": "stderr",
          "text": [
            "Installing package into ‘/usr/local/lib/R/site-library’\n",
            "(as ‘lib’ is unspecified)\n",
            "\n",
            "also installing the dependencies ‘R.oo’, ‘R.methodsS3’\n",
            "\n",
            "\n",
            "Loading required package: R.oo\n",
            "\n",
            "Loading required package: R.methodsS3\n",
            "\n",
            "R.methodsS3 v1.8.1 (2020-08-26 16:20:06 UTC) successfully loaded. See ?R.methodsS3 for help.\n",
            "\n",
            "R.oo v1.24.0 (2020-08-26 16:11:58 UTC) successfully loaded. See ?R.oo for help.\n",
            "\n",
            "\n",
            "Attaching package: ‘R.oo’\n",
            "\n",
            "\n",
            "The following object is masked from ‘package:R.methodsS3’:\n",
            "\n",
            "    throw\n",
            "\n",
            "\n",
            "The following objects are masked from ‘package:methods’:\n",
            "\n",
            "    getClasses, getMethods\n",
            "\n",
            "\n",
            "The following objects are masked from ‘package:base’:\n",
            "\n",
            "    attach, detach, load, save\n",
            "\n",
            "\n",
            "R.utils v2.11.0 (2021-09-26 08:30:02 UTC) successfully loaded. See ?R.utils for help.\n",
            "\n",
            "\n",
            "Attaching package: ‘R.utils’\n",
            "\n",
            "\n",
            "The following object is masked from ‘package:utils’:\n",
            "\n",
            "    timestamp\n",
            "\n",
            "\n",
            "The following objects are masked from ‘package:base’:\n",
            "\n",
            "    cat, commandArgs, getOption, inherits, isOpen, nullfile, parse,\n",
            "    warnings\n",
            "\n",
            "\n"
          ]
        }
      ]
    },
    {
      "cell_type": "code",
      "source": [
        "drive_auth(use_oob = TRUE, cache = TRUE)"
      ],
      "metadata": {
        "colab": {
          "base_uri": "https://localhost:8080/"
        },
        "id": "qUNHqkHGre_n",
        "outputId": "c415496a-81b1-4b14-f257-eabdaf1fe73f"
      },
      "execution_count": 47,
      "outputs": [
        {
          "output_type": "stream",
          "name": "stderr",
          "text": [
            "Please point your browser to the following url: \n",
            "\n",
            "https://accounts.google.com/o/oauth2/auth?client_id=603366585132-dpeg5tt0et3go5of2374d83ifevk5086.apps.googleusercontent.com&scope=https%3A%2F%2Fwww.googleapis.com%2Fauth%2Fdrive%20https%3A%2F%2Fwww.googleapis.com%2Fauth%2Fuserinfo.email&redirect_uri=urn%3Aietf%3Awg%3Aoauth%3A2.0%3Aoob&response_type=code\n",
            "\n"
          ]
        },
        {
          "name": "stdout",
          "output_type": "stream",
          "text": [
            "Enter authorization code: 4/1AX4XfWiz3ztlsAriROoFTXITrRORcIelnGtWdbgVgEHW944glI234I_C6pk\n"
          ]
        }
      ]
    },
    {
      "cell_type": "code",
      "source": [
        "getwd()"
      ],
      "metadata": {
        "colab": {
          "base_uri": "https://localhost:8080/",
          "height": 34
        },
        "id": "ZHofM9uRsGvC",
        "outputId": "dc126d19-6913-4b2c-e242-eb42f92f05fc"
      },
      "execution_count": 48,
      "outputs": [
        {
          "output_type": "display_data",
          "data": {
            "text/plain": [
              "[1] \"/content\""
            ],
            "text/latex": "'/content'",
            "text/markdown": "'/content'",
            "text/html": [
              "'/content'"
            ]
          },
          "metadata": {}
        }
      ]
    },
    {
      "cell_type": "code",
      "source": [
        "download.file('https://data.cdc.gov/api/views/vba9-s8jp/rows.csv?accessType=DOWNLOAD','/content/dnld_direct_from_web.csv')\n",
        "unzip(zipfile=\"/content/downloaded.zip\", exdir=\".\")"
      ],
      "metadata": {
        "colab": {
          "base_uri": "https://localhost:8080/"
        },
        "id": "OEhJ7Dr1sGsk",
        "outputId": "266ebd99-7b2f-435d-991b-15d1ab4db321"
      },
      "execution_count": 50,
      "outputs": [
        {
          "output_type": "stream",
          "name": "stderr",
          "text": [
            "Warning message in unzip(zipfile = \"/content/downloaded.zip\", exdir = \".\"):\n",
            "“error 1 in extracting from zip file”\n"
          ]
        }
      ]
    },
    {
      "cell_type": "code",
      "source": [
        "install.packages(\"readr\")"
      ],
      "metadata": {
        "colab": {
          "base_uri": "https://localhost:8080/"
        },
        "id": "pu4jQfMetCJC",
        "outputId": "f9d82bb7-99aa-4274-dcaa-15a98f5a35e6"
      },
      "execution_count": 52,
      "outputs": [
        {
          "output_type": "stream",
          "name": "stderr",
          "text": [
            "Installing package into ‘/usr/local/lib/R/site-library’\n",
            "(as ‘lib’ is unspecified)\n",
            "\n"
          ]
        }
      ]
    },
    {
      "cell_type": "code",
      "source": [
        "library(readr) \n",
        "a <- read.csv('/content/dnld_direct_from_web.csv') \n",
        "head(a)"
      ],
      "metadata": {
        "colab": {
          "base_uri": "https://localhost:8080/",
          "height": 896
        },
        "id": "UQouCbsWr7_i",
        "outputId": "dec5688c-2210-4e4a-dccb-0e322f338e22"
      },
      "execution_count": 54,
      "outputs": [
        {
          "output_type": "display_data",
          "data": {
            "text/plain": [
              "  YearStart YearEnd LocationAbbr LocationDesc \n",
              "1 2019      2019    AL           Alabama      \n",
              "2 2019      2019    ID           Idaho        \n",
              "3 2019      2019    IA           Iowa         \n",
              "4 2019      2019    LA           Louisiana    \n",
              "5 2019      2019    ME           Maine        \n",
              "6 2019      2019    MA           Massachusetts\n",
              "  Datasource                              Class                  \n",
              "1 Youth Risk Behavior Surveillance System Sugar Drinks           \n",
              "2 Youth Risk Behavior Surveillance System Sugar Drinks           \n",
              "3 Youth Risk Behavior Surveillance System Obesity / Weight Status\n",
              "4 Youth Risk Behavior Surveillance System Obesity / Weight Status\n",
              "5 Youth Risk Behavior Surveillance System Obesity / Weight Status\n",
              "6 Youth Risk Behavior Surveillance System Obesity / Weight Status\n",
              "  Topic                  \n",
              "1 Sugar Drinks - Behavior\n",
              "2 Sugar Drinks - Behavior\n",
              "3 Obesity / Weight Status\n",
              "4 Obesity / Weight Status\n",
              "5 Obesity / Weight Status\n",
              "6 Obesity / Weight Status\n",
              "  Question                                                                               \n",
              "1 Percent of students in grades 9-12 who drank regular soda/pop at least one time per day\n",
              "2 Percent of students in grades 9-12 who drank regular soda/pop at least one time per day\n",
              "3 Percent of students in grades 9-12 who have obesity                                    \n",
              "4 Percent of students in grades 9-12 who have obesity                                    \n",
              "5 Percent of students in grades 9-12 who have an overweight classification               \n",
              "6 Percent of students in grades 9-12 who have an overweight classification               \n",
              "  Data_Value_Unit Data_Value_Type ⋯ GeoLocation                      ClassID\n",
              "1 NA              Value           ⋯ (32.840571122, -86.631860762)    SD     \n",
              "2 NA              Value           ⋯ (43.682630005, -114.363730042)   SD     \n",
              "3 NA              Value           ⋯ (42.469400913, -93.816490556)    OWS    \n",
              "4 NA              Value           ⋯ (31.312660644, -92.445680071)    OWS    \n",
              "5 NA              Value           ⋯ (45.254228894001, -68.985031336) OWS    \n",
              "6 NA              Value           ⋯ (42.27687047, -72.082690675)     OWS    \n",
              "  TopicID QuestionID DataValueTypeID LocationID StratificationCategory1\n",
              "1 SD1     Q058       VALUE            1         Race/Ethnicity         \n",
              "2 SD1     Q058       VALUE           16         Race/Ethnicity         \n",
              "3 OWS1    Q038       VALUE           19         Grade                  \n",
              "4 OWS1    Q038       VALUE           22         Gender                 \n",
              "5 OWS1    Q039       VALUE           23         Race/Ethnicity         \n",
              "6 OWS1    Q039       VALUE           25         Total                  \n",
              "  Stratification1 StratificationCategoryId1 StratificationID1\n",
              "1 Hispanic        RACE                      RACEHIS          \n",
              "2 Hispanic        RACE                      RACEHIS          \n",
              "3 11th            GRADE                     GRADE11          \n",
              "4 Female          GEN                       FEMALE           \n",
              "5 Hispanic        RACE                      RACEHIS          \n",
              "6 Total           OVR                       OVERALL          "
            ],
            "text/latex": "A data.frame: 6 × 31\n\\begin{tabular}{r|lllllllllllllllllllll}\n  & YearStart & YearEnd & LocationAbbr & LocationDesc & Datasource & Class & Topic & Question & Data\\_Value\\_Unit & Data\\_Value\\_Type & ⋯ & GeoLocation & ClassID & TopicID & QuestionID & DataValueTypeID & LocationID & StratificationCategory1 & Stratification1 & StratificationCategoryId1 & StratificationID1\\\\\n  & <int> & <int> & <chr> & <chr> & <chr> & <chr> & <chr> & <chr> & <lgl> & <chr> & ⋯ & <chr> & <chr> & <chr> & <chr> & <chr> & <int> & <chr> & <chr> & <chr> & <chr>\\\\\n\\hline\n\t1 & 2019 & 2019 & AL & Alabama       & Youth Risk Behavior Surveillance System & Sugar Drinks            & Sugar Drinks - Behavior & Percent of students in grades 9-12 who drank regular soda/pop at least one time per day & NA & Value & ⋯ & (32.840571122, -86.631860762)    & SD  & SD1  & Q058 & VALUE &  1 & Race/Ethnicity & Hispanic & RACE  & RACEHIS\\\\\n\t2 & 2019 & 2019 & ID & Idaho         & Youth Risk Behavior Surveillance System & Sugar Drinks            & Sugar Drinks - Behavior & Percent of students in grades 9-12 who drank regular soda/pop at least one time per day & NA & Value & ⋯ & (43.682630005, -114.363730042)   & SD  & SD1  & Q058 & VALUE & 16 & Race/Ethnicity & Hispanic & RACE  & RACEHIS\\\\\n\t3 & 2019 & 2019 & IA & Iowa          & Youth Risk Behavior Surveillance System & Obesity / Weight Status & Obesity / Weight Status & Percent of students in grades 9-12 who have obesity                                     & NA & Value & ⋯ & (42.469400913, -93.816490556)    & OWS & OWS1 & Q038 & VALUE & 19 & Grade          & 11th     & GRADE & GRADE11\\\\\n\t4 & 2019 & 2019 & LA & Louisiana     & Youth Risk Behavior Surveillance System & Obesity / Weight Status & Obesity / Weight Status & Percent of students in grades 9-12 who have obesity                                     & NA & Value & ⋯ & (31.312660644, -92.445680071)    & OWS & OWS1 & Q038 & VALUE & 22 & Gender         & Female   & GEN   & FEMALE \\\\\n\t5 & 2019 & 2019 & ME & Maine         & Youth Risk Behavior Surveillance System & Obesity / Weight Status & Obesity / Weight Status & Percent of students in grades 9-12 who have an overweight classification                & NA & Value & ⋯ & (45.254228894001, -68.985031336) & OWS & OWS1 & Q039 & VALUE & 23 & Race/Ethnicity & Hispanic & RACE  & RACEHIS\\\\\n\t6 & 2019 & 2019 & MA & Massachusetts & Youth Risk Behavior Surveillance System & Obesity / Weight Status & Obesity / Weight Status & Percent of students in grades 9-12 who have an overweight classification                & NA & Value & ⋯ & (42.27687047, -72.082690675)     & OWS & OWS1 & Q039 & VALUE & 25 & Total          & Total    & OVR   & OVERALL\\\\\n\\end{tabular}\n",
            "text/markdown": "\nA data.frame: 6 × 31\n\n| <!--/--> | YearStart &lt;int&gt; | YearEnd &lt;int&gt; | LocationAbbr &lt;chr&gt; | LocationDesc &lt;chr&gt; | Datasource &lt;chr&gt; | Class &lt;chr&gt; | Topic &lt;chr&gt; | Question &lt;chr&gt; | Data_Value_Unit &lt;lgl&gt; | Data_Value_Type &lt;chr&gt; | ⋯ ⋯ | GeoLocation &lt;chr&gt; | ClassID &lt;chr&gt; | TopicID &lt;chr&gt; | QuestionID &lt;chr&gt; | DataValueTypeID &lt;chr&gt; | LocationID &lt;int&gt; | StratificationCategory1 &lt;chr&gt; | Stratification1 &lt;chr&gt; | StratificationCategoryId1 &lt;chr&gt; | StratificationID1 &lt;chr&gt; |\n|---|---|---|---|---|---|---|---|---|---|---|---|---|---|---|---|---|---|---|---|---|---|\n| 1 | 2019 | 2019 | AL | Alabama       | Youth Risk Behavior Surveillance System | Sugar Drinks            | Sugar Drinks - Behavior | Percent of students in grades 9-12 who drank regular soda/pop at least one time per day | NA | Value | ⋯ | (32.840571122, -86.631860762)    | SD  | SD1  | Q058 | VALUE |  1 | Race/Ethnicity | Hispanic | RACE  | RACEHIS |\n| 2 | 2019 | 2019 | ID | Idaho         | Youth Risk Behavior Surveillance System | Sugar Drinks            | Sugar Drinks - Behavior | Percent of students in grades 9-12 who drank regular soda/pop at least one time per day | NA | Value | ⋯ | (43.682630005, -114.363730042)   | SD  | SD1  | Q058 | VALUE | 16 | Race/Ethnicity | Hispanic | RACE  | RACEHIS |\n| 3 | 2019 | 2019 | IA | Iowa          | Youth Risk Behavior Surveillance System | Obesity / Weight Status | Obesity / Weight Status | Percent of students in grades 9-12 who have obesity                                     | NA | Value | ⋯ | (42.469400913, -93.816490556)    | OWS | OWS1 | Q038 | VALUE | 19 | Grade          | 11th     | GRADE | GRADE11 |\n| 4 | 2019 | 2019 | LA | Louisiana     | Youth Risk Behavior Surveillance System | Obesity / Weight Status | Obesity / Weight Status | Percent of students in grades 9-12 who have obesity                                     | NA | Value | ⋯ | (31.312660644, -92.445680071)    | OWS | OWS1 | Q038 | VALUE | 22 | Gender         | Female   | GEN   | FEMALE  |\n| 5 | 2019 | 2019 | ME | Maine         | Youth Risk Behavior Surveillance System | Obesity / Weight Status | Obesity / Weight Status | Percent of students in grades 9-12 who have an overweight classification                | NA | Value | ⋯ | (45.254228894001, -68.985031336) | OWS | OWS1 | Q039 | VALUE | 23 | Race/Ethnicity | Hispanic | RACE  | RACEHIS |\n| 6 | 2019 | 2019 | MA | Massachusetts | Youth Risk Behavior Surveillance System | Obesity / Weight Status | Obesity / Weight Status | Percent of students in grades 9-12 who have an overweight classification                | NA | Value | ⋯ | (42.27687047, -72.082690675)     | OWS | OWS1 | Q039 | VALUE | 25 | Total          | Total    | OVR   | OVERALL |\n\n",
            "text/html": [
              "<table class=\"dataframe\">\n",
              "<caption>A data.frame: 6 × 31</caption>\n",
              "<thead>\n",
              "\t<tr><th></th><th scope=col>YearStart</th><th scope=col>YearEnd</th><th scope=col>LocationAbbr</th><th scope=col>LocationDesc</th><th scope=col>Datasource</th><th scope=col>Class</th><th scope=col>Topic</th><th scope=col>Question</th><th scope=col>Data_Value_Unit</th><th scope=col>Data_Value_Type</th><th scope=col>⋯</th><th scope=col>GeoLocation</th><th scope=col>ClassID</th><th scope=col>TopicID</th><th scope=col>QuestionID</th><th scope=col>DataValueTypeID</th><th scope=col>LocationID</th><th scope=col>StratificationCategory1</th><th scope=col>Stratification1</th><th scope=col>StratificationCategoryId1</th><th scope=col>StratificationID1</th></tr>\n",
              "\t<tr><th></th><th scope=col>&lt;int&gt;</th><th scope=col>&lt;int&gt;</th><th scope=col>&lt;chr&gt;</th><th scope=col>&lt;chr&gt;</th><th scope=col>&lt;chr&gt;</th><th scope=col>&lt;chr&gt;</th><th scope=col>&lt;chr&gt;</th><th scope=col>&lt;chr&gt;</th><th scope=col>&lt;lgl&gt;</th><th scope=col>&lt;chr&gt;</th><th scope=col>⋯</th><th scope=col>&lt;chr&gt;</th><th scope=col>&lt;chr&gt;</th><th scope=col>&lt;chr&gt;</th><th scope=col>&lt;chr&gt;</th><th scope=col>&lt;chr&gt;</th><th scope=col>&lt;int&gt;</th><th scope=col>&lt;chr&gt;</th><th scope=col>&lt;chr&gt;</th><th scope=col>&lt;chr&gt;</th><th scope=col>&lt;chr&gt;</th></tr>\n",
              "</thead>\n",
              "<tbody>\n",
              "\t<tr><th scope=row>1</th><td>2019</td><td>2019</td><td>AL</td><td>Alabama      </td><td>Youth Risk Behavior Surveillance System</td><td>Sugar Drinks           </td><td>Sugar Drinks - Behavior</td><td>Percent of students in grades 9-12 who drank regular soda/pop at least one time per day</td><td>NA</td><td>Value</td><td>⋯</td><td>(32.840571122, -86.631860762)   </td><td>SD </td><td>SD1 </td><td>Q058</td><td>VALUE</td><td> 1</td><td>Race/Ethnicity</td><td>Hispanic</td><td>RACE </td><td>RACEHIS</td></tr>\n",
              "\t<tr><th scope=row>2</th><td>2019</td><td>2019</td><td>ID</td><td>Idaho        </td><td>Youth Risk Behavior Surveillance System</td><td>Sugar Drinks           </td><td>Sugar Drinks - Behavior</td><td>Percent of students in grades 9-12 who drank regular soda/pop at least one time per day</td><td>NA</td><td>Value</td><td>⋯</td><td>(43.682630005, -114.363730042)  </td><td>SD </td><td>SD1 </td><td>Q058</td><td>VALUE</td><td>16</td><td>Race/Ethnicity</td><td>Hispanic</td><td>RACE </td><td>RACEHIS</td></tr>\n",
              "\t<tr><th scope=row>3</th><td>2019</td><td>2019</td><td>IA</td><td>Iowa         </td><td>Youth Risk Behavior Surveillance System</td><td>Obesity / Weight Status</td><td>Obesity / Weight Status</td><td>Percent of students in grades 9-12 who have obesity                                    </td><td>NA</td><td>Value</td><td>⋯</td><td>(42.469400913, -93.816490556)   </td><td>OWS</td><td>OWS1</td><td>Q038</td><td>VALUE</td><td>19</td><td>Grade         </td><td>11th    </td><td>GRADE</td><td>GRADE11</td></tr>\n",
              "\t<tr><th scope=row>4</th><td>2019</td><td>2019</td><td>LA</td><td>Louisiana    </td><td>Youth Risk Behavior Surveillance System</td><td>Obesity / Weight Status</td><td>Obesity / Weight Status</td><td>Percent of students in grades 9-12 who have obesity                                    </td><td>NA</td><td>Value</td><td>⋯</td><td>(31.312660644, -92.445680071)   </td><td>OWS</td><td>OWS1</td><td>Q038</td><td>VALUE</td><td>22</td><td>Gender        </td><td>Female  </td><td>GEN  </td><td>FEMALE </td></tr>\n",
              "\t<tr><th scope=row>5</th><td>2019</td><td>2019</td><td>ME</td><td>Maine        </td><td>Youth Risk Behavior Surveillance System</td><td>Obesity / Weight Status</td><td>Obesity / Weight Status</td><td>Percent of students in grades 9-12 who have an overweight classification               </td><td>NA</td><td>Value</td><td>⋯</td><td>(45.254228894001, -68.985031336)</td><td>OWS</td><td>OWS1</td><td>Q039</td><td>VALUE</td><td>23</td><td>Race/Ethnicity</td><td>Hispanic</td><td>RACE </td><td>RACEHIS</td></tr>\n",
              "\t<tr><th scope=row>6</th><td>2019</td><td>2019</td><td>MA</td><td>Massachusetts</td><td>Youth Risk Behavior Surveillance System</td><td>Obesity / Weight Status</td><td>Obesity / Weight Status</td><td>Percent of students in grades 9-12 who have an overweight classification               </td><td>NA</td><td>Value</td><td>⋯</td><td>(42.27687047, -72.082690675)    </td><td>OWS</td><td>OWS1</td><td>Q039</td><td>VALUE</td><td>25</td><td>Total         </td><td>Total   </td><td>OVR  </td><td>OVERALL</td></tr>\n",
              "</tbody>\n",
              "</table>\n"
            ]
          },
          "metadata": {}
        }
      ]
    },
    {
      "cell_type": "code",
      "source": [
        "install.packages(\"filenamer\")"
      ],
      "metadata": {
        "colab": {
          "base_uri": "https://localhost:8080/"
        },
        "id": "TdFOx_tou9Tt",
        "outputId": "70e9a590-bf29-46b1-dbfa-ce5e838f4f5f"
      },
      "execution_count": 61,
      "outputs": [
        {
          "output_type": "stream",
          "name": "stderr",
          "text": [
            "Installing package into ‘/usr/local/lib/R/site-library’\n",
            "(as ‘lib’ is unspecified)\n",
            "\n"
          ]
        }
      ]
    },
    {
      "cell_type": "code",
      "source": [
        "source(\"https://raw.githubusercontent.com/AliyaAM/bayesian_meta_analysis/master/MAIN.R\")"
      ],
      "metadata": {
        "colab": {
          "base_uri": "https://localhost:8080/",
          "height": 377
        },
        "id": "jA22sGXxuoDW",
        "outputId": "892c1f61-56bc-4e48-8810-1b77f9b6fb30"
      },
      "execution_count": 64,
      "outputs": [
        {
          "output_type": "stream",
          "name": "stderr",
          "text": [
            "Warning message in file(filename, \"r\", encoding = encoding):\n",
            "“cannot open file '/Users/aliya/my_docs/proj/bayesian_meta_analysis/BayesianMetaAnalysis_StepByStep.R': No such file or directory”\n"
          ]
        },
        {
          "output_type": "error",
          "ename": "ERROR",
          "evalue": "ignored",
          "traceback": [
            "Error in file(filename, \"r\", encoding = encoding): cannot open the connection\nTraceback:\n",
            "1. source(\"https://raw.githubusercontent.com/AliyaAM/bayesian_meta_analysis/master/MAIN.R\")",
            "2. withVisible(eval(ei, envir))",
            "3. eval(ei, envir)",
            "4. eval(ei, envir)",
            "5. source(\"https://raw.githubusercontent.com/AliyaAM/bayesian_meta_analysis/master/QualANDQuant_sourcing_AllSeeds.R\")",
            "6. withVisible(eval(ei, envir))",
            "7. eval(ei, envir)",
            "8. eval(ei, envir)",
            "9. Source_seed(uncertainty = 10, seed = 888100)",
            "10. source(\"/Users/aliya/my_docs/proj/bayesian_meta_analysis/BayesianMetaAnalysis_StepByStep.R\", \n  .     local = TRUE)",
            "11. file(filename, \"r\", encoding = encoding)"
          ]
        }
      ]
    },
    {
      "cell_type": "code",
      "source": [
        ""
      ],
      "metadata": {
        "id": "s51rxwc9uopc"
      },
      "execution_count": null,
      "outputs": []
    },
    {
      "cell_type": "code",
      "source": [
        "tb = read_csv(\"https://raw.githubusercontent.com/AliyaAM/bayesian_meta_analysis/master/HyperPriorData.csv\")\n"
      ],
      "metadata": {
        "colab": {
          "base_uri": "https://localhost:8080/"
        },
        "id": "FjrC-2yDr77s",
        "outputId": "192bf2ee-22a2-42b1-f7c5-6a82551b6ac2"
      },
      "execution_count": 57,
      "outputs": [
        {
          "output_type": "stream",
          "name": "stderr",
          "text": [
            "\u001b[1mRows: \u001b[22m\u001b[34m20\u001b[39m \u001b[1mColumns: \u001b[22m\u001b[34m8\u001b[39m\n",
            "\n",
            "\u001b[36m──\u001b[39m \u001b[1mColumn specification\u001b[22m \u001b[36m────────────────────────────────────────────────────────\u001b[39m\n",
            "\u001b[1mDelimiter:\u001b[22m \",\"\n",
            "\u001b[31mchr\u001b[39m (1): CountryContinent\n",
            "\u001b[32mdbl\u001b[39m (7): Country, TotalN, Proportion_low, N_lowPA, N_highPA, Variance, Propo...\n",
            "\n",
            "\n",
            "\u001b[36mℹ\u001b[39m Use \u001b[30m\u001b[47m\u001b[30m\u001b[47m`spec()`\u001b[47m\u001b[30m\u001b[49m\u001b[39m to retrieve the full column specification for this data.\n",
            "\u001b[36mℹ\u001b[39m Specify the column types or set \u001b[30m\u001b[47m\u001b[30m\u001b[47m`show_col_types = FALSE`\u001b[47m\u001b[30m\u001b[49m\u001b[39m to quiet this message.\n",
            "\n"
          ]
        }
      ]
    },
    {
      "cell_type": "code",
      "source": [
        "tb"
      ],
      "metadata": {
        "colab": {
          "base_uri": "https://localhost:8080/",
          "height": 725
        },
        "id": "e6NUg0OUt_xs",
        "outputId": "850541aa-fe6b-4425-99a9-148ebc7fba8a"
      },
      "execution_count": 58,
      "outputs": [
        {
          "output_type": "display_data",
          "data": {
            "text/plain": [
              "   Country CountryContinent      TotalN Proportion_low N_lowPA N_highPA\n",
              "1  0       Asia                   896   0.5766071       516.64  379.36 \n",
              "2  0       Australia              715   0.4780000       341.77  373.23 \n",
              "3  0       North America          765   0.5898301       451.22  313.78 \n",
              "4  1       Germany                225   0.3840000        86.40  138.60 \n",
              "5  1       Italy                  819   0.6323077       517.86  301.14 \n",
              "6  1       Spain                  963   0.6200000       597.06  365.94 \n",
              "7  1       Netherlands            967   0.4400000       425.48  541.52 \n",
              "8  1       Sweden                 402   0.6660945       267.77  134.23 \n",
              "9  1       Serbia                 106   0.5100000        54.06   51.94 \n",
              "10 1       US North East          280   0.4300000       120.40  159.60 \n",
              "11 1       US South East          351   0.6600000       231.66  119.34 \n",
              "12 1       US Mexican South West  134   0.7400000        99.16   34.84 \n",
              "13 1       Brazil                 106   0.8900000        94.34   11.66 \n",
              "14 1       Japan                  127   0.5300000        67.31   59.69 \n",
              "15 1       Israel                  42   0.5700000        23.94   18.06 \n",
              "16 1       Vietnam                126   0.4100000        51.66   74.34 \n",
              "17 1       Hong Kong              167   0.8300000       138.61   28.39 \n",
              "18 1       Thailand               400   0.5300000       212.00  188.00 \n",
              "19 1       Taiwan                  34   0.6800000        23.12   10.88 \n",
              "20 0       Total                 7625   0.5666177      4320.46 3304.54 \n",
              "   Variance    Proportion_highPA\n",
              "1  0.004860000 0.4233929        \n",
              "2  0.004860000 0.5220000        \n",
              "3  0.004861684 0.4101699        \n",
              "4  0.003734030 0.6160000        \n",
              "5  0.009225309 0.3676923        \n",
              "6  0.010053909 0.3800000        \n",
              "7  0.009329427 0.5600000        \n",
              "8  0.009403705 0.3339055        \n",
              "9  0.010323603 0.4900000        \n",
              "10 0.009196608 0.5700000        \n",
              "11 0.009476490 0.3400000        \n",
              "12 0.010002421 0.2600000        \n",
              "13 0.012286017 0.1100000        \n",
              "14 0.019610194 0.4700000        \n",
              "15 0.018325004 0.4300000        \n",
              "16 0.017025543 0.5900000        \n",
              "17 0.017720691 0.1700000        \n",
              "18 0.020576554 0.4700000        \n",
              "19 0.019538507 0.3200000        \n",
              "20 0.018952315 0.4333823        "
            ],
            "text/latex": "A spec\\_tbl\\_df: 20 × 8\n\\begin{tabular}{llllllll}\n Country & CountryContinent & TotalN & Proportion\\_low & N\\_lowPA & N\\_highPA & Variance & Proportion\\_highPA\\\\\n <dbl> & <chr> & <dbl> & <dbl> & <dbl> & <dbl> & <dbl> & <dbl>\\\\\n\\hline\n\t 0 & Asia                  &  896 & 0.5766071 &  516.64 &  379.36 & 0.004860000 & 0.4233929\\\\\n\t 0 & Australia             &  715 & 0.4780000 &  341.77 &  373.23 & 0.004860000 & 0.5220000\\\\\n\t 0 & North America         &  765 & 0.5898301 &  451.22 &  313.78 & 0.004861684 & 0.4101699\\\\\n\t 1 & Germany               &  225 & 0.3840000 &   86.40 &  138.60 & 0.003734030 & 0.6160000\\\\\n\t 1 & Italy                 &  819 & 0.6323077 &  517.86 &  301.14 & 0.009225309 & 0.3676923\\\\\n\t 1 & Spain                 &  963 & 0.6200000 &  597.06 &  365.94 & 0.010053909 & 0.3800000\\\\\n\t 1 & Netherlands           &  967 & 0.4400000 &  425.48 &  541.52 & 0.009329427 & 0.5600000\\\\\n\t 1 & Sweden                &  402 & 0.6660945 &  267.77 &  134.23 & 0.009403705 & 0.3339055\\\\\n\t 1 & Serbia                &  106 & 0.5100000 &   54.06 &   51.94 & 0.010323603 & 0.4900000\\\\\n\t 1 & US North East         &  280 & 0.4300000 &  120.40 &  159.60 & 0.009196608 & 0.5700000\\\\\n\t 1 & US South East         &  351 & 0.6600000 &  231.66 &  119.34 & 0.009476490 & 0.3400000\\\\\n\t 1 & US Mexican South West &  134 & 0.7400000 &   99.16 &   34.84 & 0.010002421 & 0.2600000\\\\\n\t 1 & Brazil                &  106 & 0.8900000 &   94.34 &   11.66 & 0.012286017 & 0.1100000\\\\\n\t 1 & Japan                 &  127 & 0.5300000 &   67.31 &   59.69 & 0.019610194 & 0.4700000\\\\\n\t 1 & Israel                &   42 & 0.5700000 &   23.94 &   18.06 & 0.018325004 & 0.4300000\\\\\n\t 1 & Vietnam               &  126 & 0.4100000 &   51.66 &   74.34 & 0.017025543 & 0.5900000\\\\\n\t 1 & Hong Kong             &  167 & 0.8300000 &  138.61 &   28.39 & 0.017720691 & 0.1700000\\\\\n\t 1 & Thailand              &  400 & 0.5300000 &  212.00 &  188.00 & 0.020576554 & 0.4700000\\\\\n\t 1 & Taiwan                &   34 & 0.6800000 &   23.12 &   10.88 & 0.019538507 & 0.3200000\\\\\n\t 0 & Total                 & 7625 & 0.5666177 & 4320.46 & 3304.54 & 0.018952315 & 0.4333823\\\\\n\\end{tabular}\n",
            "text/markdown": "\nA spec_tbl_df: 20 × 8\n\n| Country &lt;dbl&gt; | CountryContinent &lt;chr&gt; | TotalN &lt;dbl&gt; | Proportion_low &lt;dbl&gt; | N_lowPA &lt;dbl&gt; | N_highPA &lt;dbl&gt; | Variance &lt;dbl&gt; | Proportion_highPA &lt;dbl&gt; |\n|---|---|---|---|---|---|---|---|\n| 0 | Asia                  |  896 | 0.5766071 |  516.64 |  379.36 | 0.004860000 | 0.4233929 |\n| 0 | Australia             |  715 | 0.4780000 |  341.77 |  373.23 | 0.004860000 | 0.5220000 |\n| 0 | North America         |  765 | 0.5898301 |  451.22 |  313.78 | 0.004861684 | 0.4101699 |\n| 1 | Germany               |  225 | 0.3840000 |   86.40 |  138.60 | 0.003734030 | 0.6160000 |\n| 1 | Italy                 |  819 | 0.6323077 |  517.86 |  301.14 | 0.009225309 | 0.3676923 |\n| 1 | Spain                 |  963 | 0.6200000 |  597.06 |  365.94 | 0.010053909 | 0.3800000 |\n| 1 | Netherlands           |  967 | 0.4400000 |  425.48 |  541.52 | 0.009329427 | 0.5600000 |\n| 1 | Sweden                |  402 | 0.6660945 |  267.77 |  134.23 | 0.009403705 | 0.3339055 |\n| 1 | Serbia                |  106 | 0.5100000 |   54.06 |   51.94 | 0.010323603 | 0.4900000 |\n| 1 | US North East         |  280 | 0.4300000 |  120.40 |  159.60 | 0.009196608 | 0.5700000 |\n| 1 | US South East         |  351 | 0.6600000 |  231.66 |  119.34 | 0.009476490 | 0.3400000 |\n| 1 | US Mexican South West |  134 | 0.7400000 |   99.16 |   34.84 | 0.010002421 | 0.2600000 |\n| 1 | Brazil                |  106 | 0.8900000 |   94.34 |   11.66 | 0.012286017 | 0.1100000 |\n| 1 | Japan                 |  127 | 0.5300000 |   67.31 |   59.69 | 0.019610194 | 0.4700000 |\n| 1 | Israel                |   42 | 0.5700000 |   23.94 |   18.06 | 0.018325004 | 0.4300000 |\n| 1 | Vietnam               |  126 | 0.4100000 |   51.66 |   74.34 | 0.017025543 | 0.5900000 |\n| 1 | Hong Kong             |  167 | 0.8300000 |  138.61 |   28.39 | 0.017720691 | 0.1700000 |\n| 1 | Thailand              |  400 | 0.5300000 |  212.00 |  188.00 | 0.020576554 | 0.4700000 |\n| 1 | Taiwan                |   34 | 0.6800000 |   23.12 |   10.88 | 0.019538507 | 0.3200000 |\n| 0 | Total                 | 7625 | 0.5666177 | 4320.46 | 3304.54 | 0.018952315 | 0.4333823 |\n\n",
            "text/html": [
              "<table class=\"dataframe\">\n",
              "<caption>A spec_tbl_df: 20 × 8</caption>\n",
              "<thead>\n",
              "\t<tr><th scope=col>Country</th><th scope=col>CountryContinent</th><th scope=col>TotalN</th><th scope=col>Proportion_low</th><th scope=col>N_lowPA</th><th scope=col>N_highPA</th><th scope=col>Variance</th><th scope=col>Proportion_highPA</th></tr>\n",
              "\t<tr><th scope=col>&lt;dbl&gt;</th><th scope=col>&lt;chr&gt;</th><th scope=col>&lt;dbl&gt;</th><th scope=col>&lt;dbl&gt;</th><th scope=col>&lt;dbl&gt;</th><th scope=col>&lt;dbl&gt;</th><th scope=col>&lt;dbl&gt;</th><th scope=col>&lt;dbl&gt;</th></tr>\n",
              "</thead>\n",
              "<tbody>\n",
              "\t<tr><td>0</td><td>Asia                 </td><td> 896</td><td>0.5766071</td><td> 516.64</td><td> 379.36</td><td>0.004860000</td><td>0.4233929</td></tr>\n",
              "\t<tr><td>0</td><td>Australia            </td><td> 715</td><td>0.4780000</td><td> 341.77</td><td> 373.23</td><td>0.004860000</td><td>0.5220000</td></tr>\n",
              "\t<tr><td>0</td><td>North America        </td><td> 765</td><td>0.5898301</td><td> 451.22</td><td> 313.78</td><td>0.004861684</td><td>0.4101699</td></tr>\n",
              "\t<tr><td>1</td><td>Germany              </td><td> 225</td><td>0.3840000</td><td>  86.40</td><td> 138.60</td><td>0.003734030</td><td>0.6160000</td></tr>\n",
              "\t<tr><td>1</td><td>Italy                </td><td> 819</td><td>0.6323077</td><td> 517.86</td><td> 301.14</td><td>0.009225309</td><td>0.3676923</td></tr>\n",
              "\t<tr><td>1</td><td>Spain                </td><td> 963</td><td>0.6200000</td><td> 597.06</td><td> 365.94</td><td>0.010053909</td><td>0.3800000</td></tr>\n",
              "\t<tr><td>1</td><td>Netherlands          </td><td> 967</td><td>0.4400000</td><td> 425.48</td><td> 541.52</td><td>0.009329427</td><td>0.5600000</td></tr>\n",
              "\t<tr><td>1</td><td>Sweden               </td><td> 402</td><td>0.6660945</td><td> 267.77</td><td> 134.23</td><td>0.009403705</td><td>0.3339055</td></tr>\n",
              "\t<tr><td>1</td><td>Serbia               </td><td> 106</td><td>0.5100000</td><td>  54.06</td><td>  51.94</td><td>0.010323603</td><td>0.4900000</td></tr>\n",
              "\t<tr><td>1</td><td>US North East        </td><td> 280</td><td>0.4300000</td><td> 120.40</td><td> 159.60</td><td>0.009196608</td><td>0.5700000</td></tr>\n",
              "\t<tr><td>1</td><td>US South East        </td><td> 351</td><td>0.6600000</td><td> 231.66</td><td> 119.34</td><td>0.009476490</td><td>0.3400000</td></tr>\n",
              "\t<tr><td>1</td><td>US Mexican South West</td><td> 134</td><td>0.7400000</td><td>  99.16</td><td>  34.84</td><td>0.010002421</td><td>0.2600000</td></tr>\n",
              "\t<tr><td>1</td><td>Brazil               </td><td> 106</td><td>0.8900000</td><td>  94.34</td><td>  11.66</td><td>0.012286017</td><td>0.1100000</td></tr>\n",
              "\t<tr><td>1</td><td>Japan                </td><td> 127</td><td>0.5300000</td><td>  67.31</td><td>  59.69</td><td>0.019610194</td><td>0.4700000</td></tr>\n",
              "\t<tr><td>1</td><td>Israel               </td><td>  42</td><td>0.5700000</td><td>  23.94</td><td>  18.06</td><td>0.018325004</td><td>0.4300000</td></tr>\n",
              "\t<tr><td>1</td><td>Vietnam              </td><td> 126</td><td>0.4100000</td><td>  51.66</td><td>  74.34</td><td>0.017025543</td><td>0.5900000</td></tr>\n",
              "\t<tr><td>1</td><td>Hong Kong            </td><td> 167</td><td>0.8300000</td><td> 138.61</td><td>  28.39</td><td>0.017720691</td><td>0.1700000</td></tr>\n",
              "\t<tr><td>1</td><td>Thailand             </td><td> 400</td><td>0.5300000</td><td> 212.00</td><td> 188.00</td><td>0.020576554</td><td>0.4700000</td></tr>\n",
              "\t<tr><td>1</td><td>Taiwan               </td><td>  34</td><td>0.6800000</td><td>  23.12</td><td>  10.88</td><td>0.019538507</td><td>0.3200000</td></tr>\n",
              "\t<tr><td>0</td><td>Total                </td><td>7625</td><td>0.5666177</td><td>4320.46</td><td>3304.54</td><td>0.018952315</td><td>0.4333823</td></tr>\n",
              "</tbody>\n",
              "</table>\n"
            ]
          },
          "metadata": {}
        }
      ]
    },
    {
      "cell_type": "code",
      "source": [
        "dir.list(\"/usr/local/lib/python3.6/dist-packages/\")"
      ],
      "metadata": {
        "colab": {
          "base_uri": "https://localhost:8080/",
          "height": 97
        },
        "id": "81Z7gTPJpDs1",
        "outputId": "a3354bbe-8d85-4e60-d4dd-8cb4f67789cc"
      },
      "execution_count": 44,
      "outputs": [
        {
          "output_type": "error",
          "ename": "ERROR",
          "evalue": "ignored",
          "traceback": [
            "Error in dir.list(\"/usr/local/lib/python3.6/dist-packages/\"): could not find function \"dir.list\"\nTraceback:\n"
          ]
        }
      ]
    },
    {
      "cell_type": "code",
      "source": [
        "x = list.files(\"/usr/local/lib/python3.6/dist-packages/\", include.dirs=TRUE)\n",
        "print(x)"
      ],
      "metadata": {
        "colab": {
          "base_uri": "https://localhost:8080/"
        },
        "id": "Q4hOXB9Kpzkj",
        "outputId": "fe9d018f-7f35-4ce4-afee-5cc519db24be"
      },
      "execution_count": 45,
      "outputs": [
        {
          "output_type": "stream",
          "name": "stdout",
          "text": [
            "character(0)\n"
          ]
        }
      ]
    },
    {
      "cell_type": "code",
      "source": [
        "# Check if is running in Colab and redefine is_interactive()\n",
        "if (file.exists(\"/usr/local/lib/python3.6/dist-packages/google/colab/_ipython.py\")) {\n",
        "  print(\"test\")\n",
        "  install.packages(\"R.utils\")\n",
        "  library(\"R.utils\")\n",
        "  library(\"httr\")\n",
        "  my_check <- function() {return(TRUE)}\n",
        "  reassignInPackage(\"is_interactive\", pkgName = \"httr\", my_check) \n",
        "  options(rlang_interactive=TRUE)\n",
        "}"
      ],
      "metadata": {
        "id": "nLcajg5ynpTb"
      },
      "execution_count": 20,
      "outputs": []
    },
    {
      "cell_type": "code",
      "source": [
        "# authorize google drive\n",
        "drive_auth(\n",
        "  email = gargle::gargle_oauth_email(),\n",
        "  path = NULL,\n",
        "  scopes = \"https://www.googleapis.com/auth/drive\",\n",
        "  cache = gargle::gargle_oauth_cache(),\n",
        "  use_oob = gargle::gargle_oob_default(),\n",
        "  token = NULL\n",
        ")"
      ],
      "metadata": {
        "colab": {
          "base_uri": "https://localhost:8080/",
          "height": 427
        },
        "id": "2MYXm_5soxMl",
        "outputId": "31e231e8-af99-4acc-a8cd-5bbf4576fc12"
      },
      "execution_count": 17,
      "outputs": [
        {
          "output_type": "error",
          "ename": "ERROR",
          "evalue": "ignored",
          "traceback": [
            "Error: \u001b[1m\u001b[22mCan't get Google credentials\n\u001b[36mℹ\u001b[39m Are you running googledrive in a non-interactive session? Consider:\n• \u001b[30m\u001b[47m`drive_deauth()`\u001b[49m\u001b[39m to prevent the attempt to get credentials\n• Call \u001b[30m\u001b[47m`drive_auth()`\u001b[49m\u001b[39m directly with all necessary specifics\n\u001b[36mℹ\u001b[39m See gargle's \"Non-interactive auth\" vignette for more details:\n\u001b[36mℹ\u001b[39m \u001b[3m\u001b[34m<https://gargle.r-lib.org/articles/non-interactive-auth.html>\u001b[39m\u001b[23m\nTraceback:\n",
            "1. drive_auth(email = gargle::gargle_oauth_email(), path = NULL, \n .     scopes = \"https://www.googleapis.com/auth/drive\", cache = gargle::gargle_oauth_cache(), \n .     use_oob = gargle::gargle_oob_default(), token = NULL)",
            "2. drive_abort(c(\"Can't get Google credentials\", i = \"Are you running googledrive in a non-interactive session? \\\\\\n             Consider:\", \n .     `*` = \"{.fun drive_deauth} to prevent the attempt to get credentials\", \n .     `*` = \"Call {.fun drive_auth} directly with all necessary specifics\", \n .     i = \"See gargle's \\\"Non-interactive auth\\\" vignette for more details:\", \n .     i = \"{.url https://gargle.r-lib.org/articles/non-interactive-auth.html}\"))",
            "3. cli::cli_abort(message = message, ..., .envir = .envir)",
            "4. rlang::abort(format_error(escaped_message, .envir = .envir), \n .     cli_bullets = message, ...)",
            "5. signal_abort(cnd)"
          ]
        }
      ]
    },
    {
      "cell_type": "code",
      "source": [
        "drive_auth(use_oob = TRUE, cache = TRUE)"
      ],
      "metadata": {
        "colab": {
          "base_uri": "https://localhost:8080/",
          "height": 392
        },
        "id": "h-DWEM_ZnMiQ",
        "outputId": "41f59894-6d63-4576-d77e-f9b746dae425"
      },
      "execution_count": 18,
      "outputs": [
        {
          "output_type": "error",
          "ename": "ERROR",
          "evalue": "ignored",
          "traceback": [
            "Error: \u001b[1m\u001b[22mCan't get Google credentials\n\u001b[36mℹ\u001b[39m Are you running googledrive in a non-interactive session? Consider:\n• \u001b[30m\u001b[47m`drive_deauth()`\u001b[49m\u001b[39m to prevent the attempt to get credentials\n• Call \u001b[30m\u001b[47m`drive_auth()`\u001b[49m\u001b[39m directly with all necessary specifics\n\u001b[36mℹ\u001b[39m See gargle's \"Non-interactive auth\" vignette for more details:\n\u001b[36mℹ\u001b[39m \u001b[3m\u001b[34m<https://gargle.r-lib.org/articles/non-interactive-auth.html>\u001b[39m\u001b[23m\nTraceback:\n",
            "1. drive_auth(use_oob = TRUE, cache = TRUE)",
            "2. drive_abort(c(\"Can't get Google credentials\", i = \"Are you running googledrive in a non-interactive session? \\\\\\n             Consider:\", \n .     `*` = \"{.fun drive_deauth} to prevent the attempt to get credentials\", \n .     `*` = \"Call {.fun drive_auth} directly with all necessary specifics\", \n .     i = \"See gargle's \\\"Non-interactive auth\\\" vignette for more details:\", \n .     i = \"{.url https://gargle.r-lib.org/articles/non-interactive-auth.html}\"))",
            "3. cli::cli_abort(message = message, ..., .envir = .envir)",
            "4. rlang::abort(format_error(escaped_message, .envir = .envir), \n .     cli_bullets = message, ...)",
            "5. signal_abort(cnd)"
          ]
        }
      ]
    },
    {
      "cell_type": "code",
      "source": [
        ""
      ],
      "metadata": {
        "id": "mWAIcLmtniIz"
      },
      "execution_count": null,
      "outputs": []
    }
  ]
}